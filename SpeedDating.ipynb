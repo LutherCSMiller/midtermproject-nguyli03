{
 "cells": [
  {
   "cell_type": "markdown",
   "metadata": {},
   "source": [
    "## Things need to have in the project:\n",
    "1. Abstract\n",
    "2. Introduce to Dataset\n",
    "3. Conclusion if neccessary"
   ]
  },
  {
   "cell_type": "markdown",
   "metadata": {},
   "source": [
    "# 1. Abstract\n",
    "I found this dataset on speed dating on Kaggle and I was lucky to found a dataset that has been nicely set up in an csv/excel file. I want to look at this dataset to see if the norm about male and female are true. My goal for this project is to:\n"
   ]
  },
  {
   "cell_type": "markdown",
   "metadata": {},
   "source": [
    "1. In what field that a person have a highest chance to have an attractive date?\n",
    "2. Find out how importance appearance is in order to have a date.\n",
    "3. What is the most desriable attribute of a male and a female?\n"
   ]
  },
  {
   "cell_type": "code",
   "execution_count": 415,
   "metadata": {
    "collapsed": true
   },
   "outputs": [],
   "source": [
    "%matplotlib inline\n",
    "import matplotlib.pyplot as plt\n",
    "import matplotlib as lib\n",
    "import pandas as pd\n",
    "from bs4 import BeautifulSoup\n",
    "import numpy as np\n",
    "import requests\n",
    "import json\n",
    "from ggplot import *"
   ]
  },
  {
   "cell_type": "code",
   "execution_count": 527,
   "metadata": {
    "collapsed": false
   },
   "outputs": [],
   "source": [
    "data=pd.read_excel(\"SpeedDatingData.xls\")"
   ]
  },
  {
   "cell_type": "code",
   "execution_count": 529,
   "metadata": {
    "collapsed": false,
    "scrolled": true
   },
   "outputs": [
    {
     "data": {
      "text/html": [
       "<div>\n",
       "<table border=\"1\" class=\"dataframe\">\n",
       "  <thead>\n",
       "    <tr style=\"text-align: right;\">\n",
       "      <th></th>\n",
       "      <th>iid</th>\n",
       "      <th>id</th>\n",
       "      <th>gender</th>\n",
       "      <th>idg</th>\n",
       "      <th>condtn</th>\n",
       "      <th>wave</th>\n",
       "      <th>round</th>\n",
       "      <th>position</th>\n",
       "      <th>positin1</th>\n",
       "      <th>order</th>\n",
       "      <th>...</th>\n",
       "      <th>attr3_3</th>\n",
       "      <th>sinc3_3</th>\n",
       "      <th>intel3_3</th>\n",
       "      <th>fun3_3</th>\n",
       "      <th>amb3_3</th>\n",
       "      <th>attr5_3</th>\n",
       "      <th>sinc5_3</th>\n",
       "      <th>intel5_3</th>\n",
       "      <th>fun5_3</th>\n",
       "      <th>amb5_3</th>\n",
       "    </tr>\n",
       "  </thead>\n",
       "  <tbody>\n",
       "    <tr>\n",
       "      <th>0</th>\n",
       "      <td>1</td>\n",
       "      <td>1.0</td>\n",
       "      <td>0</td>\n",
       "      <td>1</td>\n",
       "      <td>1</td>\n",
       "      <td>1</td>\n",
       "      <td>10</td>\n",
       "      <td>7</td>\n",
       "      <td>NaN</td>\n",
       "      <td>4</td>\n",
       "      <td>...</td>\n",
       "      <td>5.0</td>\n",
       "      <td>7.0</td>\n",
       "      <td>7.0</td>\n",
       "      <td>7.0</td>\n",
       "      <td>7.0</td>\n",
       "      <td>NaN</td>\n",
       "      <td>NaN</td>\n",
       "      <td>NaN</td>\n",
       "      <td>NaN</td>\n",
       "      <td>NaN</td>\n",
       "    </tr>\n",
       "    <tr>\n",
       "      <th>1</th>\n",
       "      <td>1</td>\n",
       "      <td>1.0</td>\n",
       "      <td>0</td>\n",
       "      <td>1</td>\n",
       "      <td>1</td>\n",
       "      <td>1</td>\n",
       "      <td>10</td>\n",
       "      <td>7</td>\n",
       "      <td>NaN</td>\n",
       "      <td>3</td>\n",
       "      <td>...</td>\n",
       "      <td>5.0</td>\n",
       "      <td>7.0</td>\n",
       "      <td>7.0</td>\n",
       "      <td>7.0</td>\n",
       "      <td>7.0</td>\n",
       "      <td>NaN</td>\n",
       "      <td>NaN</td>\n",
       "      <td>NaN</td>\n",
       "      <td>NaN</td>\n",
       "      <td>NaN</td>\n",
       "    </tr>\n",
       "    <tr>\n",
       "      <th>2</th>\n",
       "      <td>1</td>\n",
       "      <td>1.0</td>\n",
       "      <td>0</td>\n",
       "      <td>1</td>\n",
       "      <td>1</td>\n",
       "      <td>1</td>\n",
       "      <td>10</td>\n",
       "      <td>7</td>\n",
       "      <td>NaN</td>\n",
       "      <td>10</td>\n",
       "      <td>...</td>\n",
       "      <td>5.0</td>\n",
       "      <td>7.0</td>\n",
       "      <td>7.0</td>\n",
       "      <td>7.0</td>\n",
       "      <td>7.0</td>\n",
       "      <td>NaN</td>\n",
       "      <td>NaN</td>\n",
       "      <td>NaN</td>\n",
       "      <td>NaN</td>\n",
       "      <td>NaN</td>\n",
       "    </tr>\n",
       "    <tr>\n",
       "      <th>3</th>\n",
       "      <td>1</td>\n",
       "      <td>1.0</td>\n",
       "      <td>0</td>\n",
       "      <td>1</td>\n",
       "      <td>1</td>\n",
       "      <td>1</td>\n",
       "      <td>10</td>\n",
       "      <td>7</td>\n",
       "      <td>NaN</td>\n",
       "      <td>5</td>\n",
       "      <td>...</td>\n",
       "      <td>5.0</td>\n",
       "      <td>7.0</td>\n",
       "      <td>7.0</td>\n",
       "      <td>7.0</td>\n",
       "      <td>7.0</td>\n",
       "      <td>NaN</td>\n",
       "      <td>NaN</td>\n",
       "      <td>NaN</td>\n",
       "      <td>NaN</td>\n",
       "      <td>NaN</td>\n",
       "    </tr>\n",
       "    <tr>\n",
       "      <th>4</th>\n",
       "      <td>1</td>\n",
       "      <td>1.0</td>\n",
       "      <td>0</td>\n",
       "      <td>1</td>\n",
       "      <td>1</td>\n",
       "      <td>1</td>\n",
       "      <td>10</td>\n",
       "      <td>7</td>\n",
       "      <td>NaN</td>\n",
       "      <td>7</td>\n",
       "      <td>...</td>\n",
       "      <td>5.0</td>\n",
       "      <td>7.0</td>\n",
       "      <td>7.0</td>\n",
       "      <td>7.0</td>\n",
       "      <td>7.0</td>\n",
       "      <td>NaN</td>\n",
       "      <td>NaN</td>\n",
       "      <td>NaN</td>\n",
       "      <td>NaN</td>\n",
       "      <td>NaN</td>\n",
       "    </tr>\n",
       "  </tbody>\n",
       "</table>\n",
       "<p>5 rows × 195 columns</p>\n",
       "</div>"
      ],
      "text/plain": [
       "   iid   id  gender  idg  condtn  wave  round  position  positin1  order  \\\n",
       "0    1  1.0       0    1       1     1     10         7       NaN      4   \n",
       "1    1  1.0       0    1       1     1     10         7       NaN      3   \n",
       "2    1  1.0       0    1       1     1     10         7       NaN     10   \n",
       "3    1  1.0       0    1       1     1     10         7       NaN      5   \n",
       "4    1  1.0       0    1       1     1     10         7       NaN      7   \n",
       "\n",
       "    ...    attr3_3  sinc3_3  intel3_3  fun3_3  amb3_3  attr5_3  sinc5_3  \\\n",
       "0   ...        5.0      7.0       7.0     7.0     7.0      NaN      NaN   \n",
       "1   ...        5.0      7.0       7.0     7.0     7.0      NaN      NaN   \n",
       "2   ...        5.0      7.0       7.0     7.0     7.0      NaN      NaN   \n",
       "3   ...        5.0      7.0       7.0     7.0     7.0      NaN      NaN   \n",
       "4   ...        5.0      7.0       7.0     7.0     7.0      NaN      NaN   \n",
       "\n",
       "   intel5_3  fun5_3  amb5_3  \n",
       "0       NaN     NaN     NaN  \n",
       "1       NaN     NaN     NaN  \n",
       "2       NaN     NaN     NaN  \n",
       "3       NaN     NaN     NaN  \n",
       "4       NaN     NaN     NaN  \n",
       "\n",
       "[5 rows x 195 columns]"
      ]
     },
     "execution_count": 529,
     "metadata": {},
     "output_type": "execute_result"
    }
   ],
   "source": [
    "data.head()"
   ]
  },
  {
   "cell_type": "markdown",
   "metadata": {},
   "source": [
    "The explaination for each column is include in the file SpeedDatingDataKey.doc. \n"
   ]
  },
  {
   "cell_type": "markdown",
   "metadata": {},
   "source": [
    "Each people in the dataset is identified by a specific iid number. They will be scored in 6 different categories, which are: \n",
    "1. Attractive (attr)\n",
    "2. Intelligent (intel)\n",
    "3. Sincere (sinc)\n",
    "4. Fun (fun)\n",
    "5. Ambitious (amb)\n",
    "6. Shared hobbies /interest (shared).\n",
    "\n",
    "To answer my questions, I mainly used these categorries.\n",
    "The point that they have under each categories are the points that their dates gave them. Keeping in mind that a person can have more  than 1 date (since it is a speed dating program)."
   ]
  },
  {
   "cell_type": "markdown",
   "metadata": {},
   "source": [
    "# Question 1: People in which field meet the most attracitive date?\n"
   ]
  },
  {
   "cell_type": "markdown",
   "metadata": {},
   "source": [
    "## Male:"
   ]
  },
  {
   "cell_type": "code",
   "execution_count": 532,
   "metadata": {
    "collapsed": true
   },
   "outputs": [],
   "source": [
    "# male=data[data.gender==1][['iid','pid','attr','field_cd']]\n",
    "# female=data[data.gender==0][['iid','pid','attr','field_cd']]"
   ]
  },
  {
   "cell_type": "code",
   "execution_count": 531,
   "metadata": {
    "collapsed": false
   },
   "outputs": [],
   "source": [
    "attrM=data[data.gender==1].groupby(['field_cd','attr']).size()\n",
    "attrM=attrM.reset_index()\n",
    "attrM['size']=attrM[0]\n",
    "attrM=attrM.drop(0,1)\n",
    "#attrM.sort_values(['field_cd'],ascending=False).head(18)"
   ]
  },
  {
   "cell_type": "code",
   "execution_count": 419,
   "metadata": {
    "collapsed": false
   },
   "outputs": [],
   "source": [
    "#data[data.gender==0].groupby(['field_cd']).size()"
   ]
  },
  {
   "cell_type": "code",
   "execution_count": 533,
   "metadata": {
    "collapsed": false
   },
   "outputs": [],
   "source": [
    "def get_totalM(row):\n",
    "    total=data[data.gender==1].groupby(['field_cd']).size()\n",
    "    total.tolist()\n",
    "    return total[row['field_cd']]\n",
    "#calculate the total of date that people in field X meet"
   ]
  },
  {
   "cell_type": "code",
   "execution_count": 538,
   "metadata": {
    "collapsed": false,
    "scrolled": true
   },
   "outputs": [
    {
     "data": {
      "text/plain": [
       "<matplotlib.axes._subplots.AxesSubplot at 0x7f9d89fc7d30>"
      ]
     },
     "execution_count": 538,
     "metadata": {},
     "output_type": "execute_result"
    },
    {
     "data": {
      "image/png": "[encoded data removed]",
      "text/plain": [
       "<matplotlib.figure.Figure at 0x7f9d89fc3978>"
      ]
     },
     "metadata": {},
     "output_type": "display_data"
    }
   ],
   "source": [
    "attrM['total']=attrM.apply(get_totalM,axis=1)\n",
    "attrM['%']=attrM['size']/attrM['total']*100\n",
    "x=attrM[attrM.attr>=8].groupby(\"field_cd\").sum()\n",
    "x['%'].plot(kind='bar')\n",
    "# We cannot use total in x because total will be bigger than the real normal, however, % and size is right"
   ]
  },
  {
   "cell_type": "markdown",
   "metadata": {
    "collapsed": true
   },
   "source": [
    "### We can see that male from field number 11- social work, have the highest percent of meeting good looking people participating in speed dating. "
   ]
  },
  {
   "cell_type": "code",
   "execution_count": 546,
   "metadata": {
    "collapsed": false
   },
   "outputs": [
    {
     "data": {
      "text/plain": [
       "<matplotlib.axes._subplots.AxesSubplot at 0x7f9d8c94ae48>"
      ]
     },
     "execution_count": 546,
     "metadata": {},
     "output_type": "execute_result"
    },
    {
     "data": {
      "image/png": "[encoded data removed]",
      "text/plain": [
       "<matplotlib.figure.Figure at 0x7f9d8c9c5a90>"
      ]
     },
     "metadata": {},
     "output_type": "display_data"
    }
   ],
   "source": [
    "field=data[data.gender==1].groupby(['iid','field_cd']).size()\n",
    "field=field.reset_index()\n",
    "field.groupby('field_cd').size().plot(kind='bar')"
   ]
  },
  {
   "cell_type": "markdown",
   "metadata": {},
   "source": [
    "### We can see that there are a lot of male from field 8- Business participating speed dating. However, comparing two graphs, we can see that fields having less participants have higher chance of meeting attractive dates than fields having a lot of participants."
   ]
  },
  {
   "cell_type": "markdown",
   "metadata": {
    "collapsed": false
   },
   "source": [
    "## Female:"
   ]
  },
  {
   "cell_type": "code",
   "execution_count": 424,
   "metadata": {
    "collapsed": false
   },
   "outputs": [],
   "source": [
    "attrF=data[(data.gender==0) & (data.attr>=8)].groupby(['field_cd','attr']).size()\n",
    "attrF=attrF.reset_index()\n",
    "attrF['size']=attrF[0]\n",
    "attrF=attrF.drop(0,1)\n",
    "#attrF.head()"
   ]
  },
  {
   "cell_type": "code",
   "execution_count": 548,
   "metadata": {
    "collapsed": true
   },
   "outputs": [],
   "source": [
    "def get_totalF(row):\n",
    "    total=data[data.gender==0].groupby(['field_cd']).size()\n",
    "    total.tolist()\n",
    "    return total[row['field_cd']]\n",
    "#calculate the total number of date that people in field X meet"
   ]
  },
  {
   "cell_type": "code",
   "execution_count": 426,
   "metadata": {
    "collapsed": false,
    "scrolled": true
   },
   "outputs": [
    {
     "data": {
      "text/plain": [
       "<matplotlib.axes._subplots.AxesSubplot at 0x7f9d8ad215c0>"
      ]
     },
     "execution_count": 426,
     "metadata": {},
     "output_type": "execute_result"
    },
    {
     "data": {
      "image/png": "[encoded data removed]",
      "text/plain": [
       "<matplotlib.figure.Figure at 0x7f9d8adc9f28>"
      ]
     },
     "metadata": {},
     "output_type": "display_data"
    }
   ],
   "source": [
    "attrF['total']=attrF.apply(get_totalF,axis=1)\n",
    "attrF['%']=attrF['size']/attrF['total']*100\n",
    "x=attrF.groupby(\"field_cd\").sum()\n",
    "x['%'].plot(kind='bar')"
   ]
  },
  {
   "cell_type": "markdown",
   "metadata": {},
   "source": [
    "### We can see that most of the fields have high percent of meeting attractive men, but field number 2, which is suprisingly, Math, has the highest percentage of attractive males."
   ]
  },
  {
   "cell_type": "code",
   "execution_count": 547,
   "metadata": {
    "collapsed": false
   },
   "outputs": [
    {
     "data": {
      "text/plain": [
       "<matplotlib.axes._subplots.AxesSubplot at 0x7f9d8c87b630>"
      ]
     },
     "execution_count": 547,
     "metadata": {},
     "output_type": "execute_result"
    },
    {
     "data": {
      "image/png": "[encoded data removed]",
      "text/plain": [
       "<matplotlib.figure.Figure at 0x7f9d8c9c8c50>"
      ]
     },
     "metadata": {},
     "output_type": "display_data"
    }
   ],
   "source": [
    "field=data[data.gender==0].groupby(['iid','field_cd']).size()\n",
    "field=field.reset_index()\n",
    "field.groupby('field_cd').size().plot(kind='bar')"
   ]
  },
  {
   "cell_type": "markdown",
   "metadata": {},
   "source": [
    "### We can see that there are a lot of female from field 3- Social Work and field 9 - Education participating speed dating. The relationship between number of participants entering speed dating and the chance to meet attractive men is not as negative and obvious like male."
   ]
  },
  {
   "cell_type": "markdown",
   "metadata": {
    "collapsed": true
   },
   "source": [
    "# Question 2: H\"ow important apprearance is to the decision of dating a person again. How is it compared to the \"inside value\" like sincere?\n",
    "To do this, at first, I want to make a scatter plot to see the distribution and the linear relationship. "
   ]
  },
  {
   "cell_type": "code",
   "execution_count": 429,
   "metadata": {
    "collapsed": false
   },
   "outputs": [
    {
     "name": "stderr",
     "output_type": "stream",
     "text": [
      "/usr/local/lib/python3.5/site-packages/numpy/linalg/linalg.py:1546: RuntimeWarning: invalid value encountered in greater\n",
      "  return sum(S > tol)\n",
      "/usr/local/lib/python3.5/site-packages/scipy/stats/_distn_infrastructure.py:875: RuntimeWarning: invalid value encountered in greater\n",
      "  return (self.a < x) & (x < self.b)\n",
      "/usr/local/lib/python3.5/site-packages/scipy/stats/_distn_infrastructure.py:875: RuntimeWarning: invalid value encountered in less\n",
      "  return (self.a < x) & (x < self.b)\n",
      "/usr/local/lib/python3.5/site-packages/scipy/stats/_distn_infrastructure.py:1814: RuntimeWarning: invalid value encountered in less_equal\n",
      "  cond2 = cond0 & (x <= self.a)\n",
      "/usr/local/lib/python3.5/site-packages/ggplot/stats/stat_smooth.py:77: FutureWarning: sort(columns=....) is deprecated, use sort_values(by=.....)\n",
      "  smoothed_data = smoothed_data.sort('x')\n"
     ]
    },
    {
     "data": {
      "image/png": "[encoded data removed]",
      "text/plain": [
       "<matplotlib.figure.Figure at 0x7f9d8aa3aa20>"
      ]
     },
     "metadata": {},
     "output_type": "display_data"
    },
    {
     "data": {
      "text/plain": [
       "<ggplot: (8769663282657)>"
      ]
     },
     "execution_count": 429,
     "metadata": {},
     "output_type": "execute_result"
    }
   ],
   "source": [
    "ggplot(data,aes(x=\"attr\",y=\"prob\"))+geom_point()+stat_smooth(method=\"lm\")+labs(x=\"Attractive point\",y=\"Data again point\")"
   ]
  },
  {
   "cell_type": "markdown",
   "metadata": {
    "collapsed": true
   },
   "source": [
    "### However, I realize that the point scale the data used making attributes like attractive or sincere are discrete variables, which are not the ideal variable for linear testing. So I tried out to see if I calculate things in percentage, would it make any differences. So, I will create a smaller dataset from the big one including attr, prob, and the percentage of each attr point."
   ]
  },
  {
   "cell_type": "code",
   "execution_count": 437,
   "metadata": {
    "collapsed": false
   },
   "outputs": [
    {
     "data": {
      "text/html": [
       "<div>\n",
       "<table border=\"1\" class=\"dataframe\">\n",
       "  <thead>\n",
       "    <tr style=\"text-align: right;\">\n",
       "      <th></th>\n",
       "      <th>attr</th>\n",
       "      <th>prob</th>\n",
       "      <th>0</th>\n",
       "      <th>size</th>\n",
       "    </tr>\n",
       "  </thead>\n",
       "  <tbody>\n",
       "    <tr>\n",
       "      <th>0</th>\n",
       "      <td>0.0</td>\n",
       "      <td>0.0</td>\n",
       "      <td>4</td>\n",
       "      <td>4</td>\n",
       "    </tr>\n",
       "    <tr>\n",
       "      <th>1</th>\n",
       "      <td>0.0</td>\n",
       "      <td>2.0</td>\n",
       "      <td>1</td>\n",
       "      <td>1</td>\n",
       "    </tr>\n",
       "    <tr>\n",
       "      <th>2</th>\n",
       "      <td>0.0</td>\n",
       "      <td>5.0</td>\n",
       "      <td>2</td>\n",
       "      <td>2</td>\n",
       "    </tr>\n",
       "    <tr>\n",
       "      <th>3</th>\n",
       "      <td>0.0</td>\n",
       "      <td>9.0</td>\n",
       "      <td>1</td>\n",
       "      <td>1</td>\n",
       "    </tr>\n",
       "    <tr>\n",
       "      <th>4</th>\n",
       "      <td>1.0</td>\n",
       "      <td>0.0</td>\n",
       "      <td>1</td>\n",
       "      <td>1</td>\n",
       "    </tr>\n",
       "  </tbody>\n",
       "</table>\n",
       "</div>"
      ],
      "text/plain": [
       "   attr  prob  0  size\n",
       "0   0.0   0.0  4     4\n",
       "1   0.0   2.0  1     1\n",
       "2   0.0   5.0  2     2\n",
       "3   0.0   9.0  1     1\n",
       "4   1.0   0.0  1     1"
      ]
     },
     "execution_count": 437,
     "metadata": {},
     "output_type": "execute_result"
    }
   ],
   "source": [
    "attrPoint=data.groupby(['attr','prob']).size()\n",
    "attrPoint=attrPoint.reset_index()\n",
    "attrPoint['size']=attrPoint[0]\n",
    "attrPoint.drop(0,1)\n",
    "attrPoint.head()"
   ]
  },
  {
   "cell_type": "code",
   "execution_count": 431,
   "metadata": {
    "collapsed": true
   },
   "outputs": [],
   "source": [
    "def get_totalPoint(row):\n",
    "    total=data.groupby(['prob']).size()\n",
    "    total.tolist()\n",
    "    return total[row['prob']]\n",
    "attrPoint['countPoint']=attrPoint.apply(get_totalPoint,axis=1)"
   ]
  },
  {
   "cell_type": "code",
   "execution_count": 432,
   "metadata": {
    "collapsed": false
   },
   "outputs": [
    {
     "data": {
      "text/html": [
       "<div>\n",
       "<table border=\"1\" class=\"dataframe\">\n",
       "  <thead>\n",
       "    <tr style=\"text-align: right;\">\n",
       "      <th></th>\n",
       "      <th>attr</th>\n",
       "      <th>prob</th>\n",
       "      <th>0</th>\n",
       "      <th>size</th>\n",
       "      <th>countPoint</th>\n",
       "      <th>%</th>\n",
       "    </tr>\n",
       "  </thead>\n",
       "  <tbody>\n",
       "    <tr>\n",
       "      <th>0</th>\n",
       "      <td>0.0</td>\n",
       "      <td>0.0</td>\n",
       "      <td>4</td>\n",
       "      <td>4</td>\n",
       "      <td>49</td>\n",
       "      <td>8.163265</td>\n",
       "    </tr>\n",
       "    <tr>\n",
       "      <th>1</th>\n",
       "      <td>0.0</td>\n",
       "      <td>2.0</td>\n",
       "      <td>1</td>\n",
       "      <td>1</td>\n",
       "      <td>539</td>\n",
       "      <td>0.185529</td>\n",
       "    </tr>\n",
       "    <tr>\n",
       "      <th>2</th>\n",
       "      <td>0.0</td>\n",
       "      <td>5.0</td>\n",
       "      <td>2</td>\n",
       "      <td>2</td>\n",
       "      <td>1799</td>\n",
       "      <td>0.111173</td>\n",
       "    </tr>\n",
       "    <tr>\n",
       "      <th>3</th>\n",
       "      <td>0.0</td>\n",
       "      <td>9.0</td>\n",
       "      <td>1</td>\n",
       "      <td>1</td>\n",
       "      <td>241</td>\n",
       "      <td>0.414938</td>\n",
       "    </tr>\n",
       "    <tr>\n",
       "      <th>4</th>\n",
       "      <td>1.0</td>\n",
       "      <td>0.0</td>\n",
       "      <td>1</td>\n",
       "      <td>1</td>\n",
       "      <td>49</td>\n",
       "      <td>2.040816</td>\n",
       "    </tr>\n",
       "  </tbody>\n",
       "</table>\n",
       "</div>"
      ],
      "text/plain": [
       "   attr  prob  0  size  countPoint         %\n",
       "0   0.0   0.0  4     4          49  8.163265\n",
       "1   0.0   2.0  1     1         539  0.185529\n",
       "2   0.0   5.0  2     2        1799  0.111173\n",
       "3   0.0   9.0  1     1         241  0.414938\n",
       "4   1.0   0.0  1     1          49  2.040816"
      ]
     },
     "execution_count": 432,
     "metadata": {},
     "output_type": "execute_result"
    }
   ],
   "source": [
    "attrPoint['%']=attrPoint['size']/attrPoint['countPoint']*100\n",
    "attrPoint.head()"
   ]
  },
  {
   "cell_type": "code",
   "execution_count": 433,
   "metadata": {
    "collapsed": false
   },
   "outputs": [
    {
     "data": {
      "text/html": [
       "<div>\n",
       "<table border=\"1\" class=\"dataframe\">\n",
       "  <thead>\n",
       "    <tr style=\"text-align: right;\">\n",
       "      <th></th>\n",
       "      <th>attr</th>\n",
       "      <th>prob</th>\n",
       "      <th>0</th>\n",
       "      <th>size</th>\n",
       "      <th>countPoint</th>\n",
       "      <th>%</th>\n",
       "    </tr>\n",
       "  </thead>\n",
       "  <tbody>\n",
       "    <tr>\n",
       "      <th>0</th>\n",
       "      <td>0.0</td>\n",
       "      <td>9.0</td>\n",
       "      <td>1</td>\n",
       "      <td>1</td>\n",
       "      <td>241</td>\n",
       "      <td>0.414938</td>\n",
       "    </tr>\n",
       "    <tr>\n",
       "      <th>1</th>\n",
       "      <td>1.0</td>\n",
       "      <td>40.0</td>\n",
       "      <td>34</td>\n",
       "      <td>34</td>\n",
       "      <td>3606</td>\n",
       "      <td>4.127265</td>\n",
       "    </tr>\n",
       "    <tr>\n",
       "      <th>2</th>\n",
       "      <td>2.0</td>\n",
       "      <td>40.0</td>\n",
       "      <td>73</td>\n",
       "      <td>73</td>\n",
       "      <td>3606</td>\n",
       "      <td>11.343078</td>\n",
       "    </tr>\n",
       "    <tr>\n",
       "      <th>3</th>\n",
       "      <td>3.0</td>\n",
       "      <td>40.0</td>\n",
       "      <td>107</td>\n",
       "      <td>107</td>\n",
       "      <td>3606</td>\n",
       "      <td>15.760865</td>\n",
       "    </tr>\n",
       "    <tr>\n",
       "      <th>4</th>\n",
       "      <td>3.5</td>\n",
       "      <td>8.0</td>\n",
       "      <td>1</td>\n",
       "      <td>1</td>\n",
       "      <td>652</td>\n",
       "      <td>0.153374</td>\n",
       "    </tr>\n",
       "    <tr>\n",
       "      <th>5</th>\n",
       "      <td>4.0</td>\n",
       "      <td>40.0</td>\n",
       "      <td>229</td>\n",
       "      <td>229</td>\n",
       "      <td>3606</td>\n",
       "      <td>33.029777</td>\n",
       "    </tr>\n",
       "    <tr>\n",
       "      <th>6</th>\n",
       "      <td>5.0</td>\n",
       "      <td>40.0</td>\n",
       "      <td>408</td>\n",
       "      <td>408</td>\n",
       "      <td>3606</td>\n",
       "      <td>47.342854</td>\n",
       "    </tr>\n",
       "  </tbody>\n",
       "</table>\n",
       "</div>"
      ],
      "text/plain": [
       "   attr  prob    0  size  countPoint          %\n",
       "0   0.0   9.0    1     1         241   0.414938\n",
       "1   1.0  40.0   34    34        3606   4.127265\n",
       "2   2.0  40.0   73    73        3606  11.343078\n",
       "3   3.0  40.0  107   107        3606  15.760865\n",
       "4   3.5   8.0    1     1         652   0.153374\n",
       "5   4.0  40.0  229   229        3606  33.029777\n",
       "6   5.0  40.0  408   408        3606  47.342854"
      ]
     },
     "execution_count": 433,
     "metadata": {},
     "output_type": "execute_result"
    }
   ],
   "source": [
    "attrPointP=attrPoint[(attrPoint.prob>=6) & (attrPoint.attr<=5)].groupby('attr').sum()\n",
    "attrPointP=attrPointP.reset_index()\n",
    "attrPointP"
   ]
  },
  {
   "cell_type": "markdown",
   "metadata": {},
   "source": [
    "#### We can see that the percentage does not add up to 100. This is because we calculated the percentage by dividing the number of people have a specific score on attractive and data again, divided by the total of number of people that have that date again point. When I use the sum function, it adds up the percentage of people have that specific points, therefore, the sum will go over. With this dataset, we only care about the attr and the percentage. The other one like prob and countPoint get sum up, which we do not need."
   ]
  },
  {
   "cell_type": "code",
   "execution_count": 434,
   "metadata": {
    "collapsed": false
   },
   "outputs": [
    {
     "data": {
      "image/png": "[encoded data removed]",
      "text/plain": [
       "<matplotlib.figure.Figure at 0x7f9d8bf5da58>"
      ]
     },
     "metadata": {},
     "output_type": "display_data"
    },
    {
     "data": {
      "text/plain": [
       "<ggplot: (8769663441086)>"
      ]
     },
     "execution_count": 434,
     "metadata": {},
     "output_type": "execute_result"
    }
   ],
   "source": [
    "ggplot(attrPointP,aes(x=\"attr\",weight='%'))+geom_bar()"
   ]
  },
  {
   "cell_type": "markdown",
   "metadata": {},
   "source": [
    "### So we still see that even in the group of people have low attractive point and high date again point, the people with higher attractive point stil have a higher chance to be dated again. Let move on and see if this change when we add the sincere attribute"
   ]
  },
  {
   "cell_type": "code",
   "execution_count": 669,
   "metadata": {
    "collapsed": false
   },
   "outputs": [
    {
     "data": {
      "text/html": [
       "<div>\n",
       "<table border=\"1\" class=\"dataframe\">\n",
       "  <thead>\n",
       "    <tr style=\"text-align: right;\">\n",
       "      <th></th>\n",
       "      <th>prob</th>\n",
       "      <th>0</th>\n",
       "      <th>percent</th>\n",
       "    </tr>\n",
       "  </thead>\n",
       "  <tbody>\n",
       "    <tr>\n",
       "      <th>0</th>\n",
       "      <td>0.0</td>\n",
       "      <td>12</td>\n",
       "      <td>0.026966</td>\n",
       "    </tr>\n",
       "    <tr>\n",
       "      <th>1</th>\n",
       "      <td>1.0</td>\n",
       "      <td>47</td>\n",
       "      <td>0.105618</td>\n",
       "    </tr>\n",
       "    <tr>\n",
       "      <th>2</th>\n",
       "      <td>2.0</td>\n",
       "      <td>53</td>\n",
       "      <td>0.119101</td>\n",
       "    </tr>\n",
       "    <tr>\n",
       "      <th>3</th>\n",
       "      <td>3.0</td>\n",
       "      <td>41</td>\n",
       "      <td>0.092135</td>\n",
       "    </tr>\n",
       "    <tr>\n",
       "      <th>4</th>\n",
       "      <td>4.0</td>\n",
       "      <td>42</td>\n",
       "      <td>0.094382</td>\n",
       "    </tr>\n",
       "    <tr>\n",
       "      <th>5</th>\n",
       "      <td>5.0</td>\n",
       "      <td>83</td>\n",
       "      <td>0.186517</td>\n",
       "    </tr>\n",
       "    <tr>\n",
       "      <th>6</th>\n",
       "      <td>6.0</td>\n",
       "      <td>64</td>\n",
       "      <td>0.143820</td>\n",
       "    </tr>\n",
       "    <tr>\n",
       "      <th>7</th>\n",
       "      <td>7.0</td>\n",
       "      <td>45</td>\n",
       "      <td>0.101124</td>\n",
       "    </tr>\n",
       "    <tr>\n",
       "      <th>8</th>\n",
       "      <td>8.0</td>\n",
       "      <td>37</td>\n",
       "      <td>0.083146</td>\n",
       "    </tr>\n",
       "    <tr>\n",
       "      <th>9</th>\n",
       "      <td>9.0</td>\n",
       "      <td>9</td>\n",
       "      <td>0.020225</td>\n",
       "    </tr>\n",
       "    <tr>\n",
       "      <th>10</th>\n",
       "      <td>10.0</td>\n",
       "      <td>12</td>\n",
       "      <td>0.026966</td>\n",
       "    </tr>\n",
       "  </tbody>\n",
       "</table>\n",
       "</div>"
      ],
      "text/plain": [
       "    prob   0   percent\n",
       "0    0.0  12  0.026966\n",
       "1    1.0  47  0.105618\n",
       "2    2.0  53  0.119101\n",
       "3    3.0  41  0.092135\n",
       "4    4.0  42  0.094382\n",
       "5    5.0  83  0.186517\n",
       "6    6.0  64  0.143820\n",
       "7    7.0  45  0.101124\n",
       "8    8.0  37  0.083146\n",
       "9    9.0   9  0.020225\n",
       "10  10.0  12  0.026966"
      ]
     },
     "execution_count": 669,
     "metadata": {},
     "output_type": "execute_result"
    }
   ],
   "source": [
    "asp=data[(data.attr<=3) & (data.sinc>=6)][['attr','sinc','prob']]\n",
    "asp.fillna(0,inplace=True)\n",
    "count=len(asp)\n",
    "asp=asp.groupby(['prob']).size()\n",
    "asp=asp.reset_index()\n",
    "asp['percent']=asp[0]/count\n",
    "asp"
   ]
  },
  {
   "cell_type": "code",
   "execution_count": 632,
   "metadata": {
    "collapsed": false
   },
   "outputs": [],
   "source": [
    "from pylab import *"
   ]
  },
  {
   "cell_type": "code",
   "execution_count": 674,
   "metadata": {
    "collapsed": false
   },
   "outputs": [
    {
     "data": {
      "text/plain": [
       "([<matplotlib.patches.Wedge at 0x7f9d8a6e3cc0>,\n",
       "  <matplotlib.patches.Wedge at 0x7f9d8a6e9f28>,\n",
       "  <matplotlib.patches.Wedge at 0x7f9d8a6f51d0>,\n",
       "  <matplotlib.patches.Wedge at 0x7f9d8a6fb438>,\n",
       "  <matplotlib.patches.Wedge at 0x7f9d8a7006a0>,\n",
       "  <matplotlib.patches.Wedge at 0x7f9d8a708908>,\n",
       "  <matplotlib.patches.Wedge at 0x7f9d8a70cb70>,\n",
       "  <matplotlib.patches.Wedge at 0x7f9d8a711dd8>,\n",
       "  <matplotlib.patches.Wedge at 0x7f9d8a71c080>,\n",
       "  <matplotlib.patches.Wedge at 0x7f9d8a6a42e8>,\n",
       "  <matplotlib.patches.Wedge at 0x7f9d8a6aa550>],\n",
       " [<matplotlib.text.Text at 0x7f9d8a6e9518>,\n",
       "  <matplotlib.text.Text at 0x7f9d8a6ef780>,\n",
       "  <matplotlib.text.Text at 0x7f9d8a6f59e8>,\n",
       "  <matplotlib.text.Text at 0x7f9d8a6fbc50>,\n",
       "  <matplotlib.text.Text at 0x7f9d8a700eb8>,\n",
       "  <matplotlib.text.Text at 0x7f9d8a70c160>,\n",
       "  <matplotlib.text.Text at 0x7f9d8a7113c8>,\n",
       "  <matplotlib.text.Text at 0x7f9d8a717630>,\n",
       "  <matplotlib.text.Text at 0x7f9d8a71c898>,\n",
       "  <matplotlib.text.Text at 0x7f9d8a6a4b00>,\n",
       "  <matplotlib.text.Text at 0x7f9d8a6aad68>],\n",
       " [<matplotlib.text.Text at 0x7f9d8a6e99e8>,\n",
       "  <matplotlib.text.Text at 0x7f9d8a6efc50>,\n",
       "  <matplotlib.text.Text at 0x7f9d8a6f5eb8>,\n",
       "  <matplotlib.text.Text at 0x7f9d8a700160>,\n",
       "  <matplotlib.text.Text at 0x7f9d8a7083c8>,\n",
       "  <matplotlib.text.Text at 0x7f9d8a70c630>,\n",
       "  <matplotlib.text.Text at 0x7f9d8a711898>,\n",
       "  <matplotlib.text.Text at 0x7f9d8a717b00>,\n",
       "  <matplotlib.text.Text at 0x7f9d8a71cd68>,\n",
       "  <matplotlib.text.Text at 0x7f9d8a6a4fd0>,\n",
       "  <matplotlib.text.Text at 0x7f9d8a6af278>])"
      ]
     },
     "execution_count": 674,
     "metadata": {},
     "output_type": "execute_result"
    },
    {
     "data": {
      "image/png": "[encoded data removed]",
      "text/plain": [
       "<matplotlib.figure.Figure at 0x7f9d8a818f60>"
      ]
     },
     "metadata": {},
     "output_type": "display_data"
    }
   ],
   "source": [
    "figure(1, figsize=(6,6))\n",
    "ax = axes([0.1, 0.1, 0.8, 0.8])\n",
    "fracs = [15, 30, 45, 10]\n",
    "explore=asp['percent'].tolist()\n",
    "labels=asp['prob'].tolist()\n",
    "pie(explore,labels=labels,autopct='%1.1f%%', shadow=False, startangle=90)"
   ]
  },
  {
   "cell_type": "code",
   "execution_count": 671,
   "metadata": {
    "collapsed": false
   },
   "outputs": [
    {
     "data": {
      "image/png": "[encoded data removed]",
      "text/plain": [
       "<matplotlib.figure.Figure at 0x7f9d8ae805f8>"
      ]
     },
     "metadata": {},
     "output_type": "display_data"
    },
    {
     "data": {
      "text/plain": [
       "<ggplot: (-9223363267191198071)>"
      ]
     },
     "execution_count": 671,
     "metadata": {},
     "output_type": "execute_result"
    }
   ],
   "source": [
    "ggplot(asp,aes(x='prob',weight='percent'))+geom_bar()"
   ]
  },
  {
   "cell_type": "markdown",
   "metadata": {},
   "source": [
    "### This is an interesting observation because it seems like people with high sincere points and low attractive points, the chance of getting dated again is quite random. Their dates seem to unsure if they would want to date them again, which is indicated by the most common point, 5 and 6. I believe that sincere have some impact on the decision because with the first observation, people with attractive points lower than 3 have less than 30% chance of being dated again."
   ]
  },
  {
   "cell_type": "markdown",
   "metadata": {
    "collapsed": true
   },
   "source": [
    "# Question 3: What is the most desired attribute of a male, of a female?"
   ]
  },
  {
   "cell_type": "code",
   "execution_count": 556,
   "metadata": {
    "collapsed": true
   },
   "outputs": [],
   "source": [
    "def normalize_attr(row):\n",
    "    if (row['wave']>=6) and (row['wave']<=9):\n",
    "        return row['attr1_1']*10\n",
    "    else:\n",
    "        return row['attr1_1']\n",
    "def normalize_sinc(row):\n",
    "    if (row['wave']>=6) and (row['wave']<=9):\n",
    "        return row['sinc1_1']*10\n",
    "    else:\n",
    "        return row['sinc1_1']\n",
    "def normalize_intel(row):\n",
    "    if (row['wave']>=6) and (row['wave']<=9):\n",
    "        return row['intel1_1']*10\n",
    "    else:\n",
    "        return row['intel1_1']\n",
    "def normalize_fun(row):\n",
    "    if (row['wave']>=6) and (row['wave']<=9):\n",
    "        return row['fun1_1']*10\n",
    "    else:\n",
    "        return row['fun1_1']\n",
    "def normalize_amb(row):\n",
    "    if (row['wave']>=6) and (row['wave']<=9):\n",
    "        return row['amb1_1']*10\n",
    "    else:\n",
    "        return row['amb1_1']\n",
    "def normalize_shar(row):\n",
    "    if (row['wave']>=6) and (row['wave']<=9):\n",
    "        return row['shar1_1']*10\n",
    "    else:\n",
    "        return row['shar1_1']"
   ]
  },
  {
   "cell_type": "markdown",
   "metadata": {},
   "source": [
    "## Female\n",
    "Each male will range their dates so to know what features is desirable of a female, we look at data from the male"
   ]
  },
  {
   "cell_type": "code",
   "execution_count": 620,
   "metadata": {
    "collapsed": false
   },
   "outputs": [],
   "source": [
    "desireF=data[data.gender==1][['iid','attr1_1','sinc1_1','fun1_1','intel1_1','amb1_1','shar1_1','wave']]\n",
    "desireF.fillna(0,inplace=True)\n",
    "desireF['normAttr']=desireF.apply(normalize_attr,axis=1)\n",
    "desireF['normSinc']=desireF.apply(normalize_sinc,axis=1)\n",
    "desireF['normIntel']=desireF.apply(normalize_intel,axis=1)\n",
    "desireF['normFun']=desireF.apply(normalize_fun,axis=1)\n",
    "desireF['normAmb']=desireF.apply(normalize_amb,axis=1)\n",
    "desireF['normShar']=desireF.apply(normalize_shar,axis=1)\n",
    "desireF=desireF[['normAttr','normSinc','normIntel','normFun','normAmb','normShar','iid']]\n",
    "desireF=desireF.groupby('iid').mean()\n",
    "#Because each guy meets 10 girls but he has the same standard for girls\n",
    "medianF=desireF.median()\n",
    "meanF=desireF.mean()"
   ]
  },
  {
   "cell_type": "code",
   "execution_count": 621,
   "metadata": {
    "collapsed": false
   },
   "outputs": [
    {
     "data": {
      "text/plain": [
       "<matplotlib.axes._subplots.AxesSubplot at 0x7f9d8bf90a58>"
      ]
     },
     "execution_count": 621,
     "metadata": {},
     "output_type": "execute_result"
    },
    {
     "data": {
      "image/png": "[encoded data removed]",
      "text/plain": [
       "<matplotlib.figure.Figure at 0x7f9d8bf6a0f0>"
      ]
     },
     "metadata": {},
     "output_type": "display_data"
    }
   ],
   "source": [
    "meanF.plot(kind='bar')"
   ]
  },
  {
   "cell_type": "code",
   "execution_count": 622,
   "metadata": {
    "collapsed": false
   },
   "outputs": [
    {
     "data": {
      "text/plain": [
       "<matplotlib.axes._subplots.AxesSubplot at 0x7f9d8bac53c8>"
      ]
     },
     "execution_count": 622,
     "metadata": {},
     "output_type": "execute_result"
    },
    {
     "data": {
      "image/png": "[encoded data removed]",
      "text/plain": [
       "<matplotlib.figure.Figure at 0x7f9d8bac9320>"
      ]
     },
     "metadata": {},
     "output_type": "display_data"
    }
   ],
   "source": [
    "medianF.plot(kind='bar')"
   ]
  },
  {
   "cell_type": "markdown",
   "metadata": {},
   "source": [
    "### In conclusion: Male really care about appearance of female, other attributes like sincere, intelligent or fun are not as important. Ambitious and Shared hobbies are the least popular female attribute to male."
   ]
  },
  {
   "cell_type": "markdown",
   "metadata": {},
   "source": [
    "# Male:"
   ]
  },
  {
   "cell_type": "code",
   "execution_count": 678,
   "metadata": {
    "collapsed": true
   },
   "outputs": [],
   "source": [
    "desireM=data[data.gender==0][['iid','attr1_1','sinc1_1','fun1_1','intel1_1','amb1_1','shar1_1','wave']]\n",
    "desireM.fillna(0,inplace=True)\n",
    "desireM['normAttr']=desireM.apply(normalize_attr,axis=1)\n",
    "desireM['normSinc']=desireM.apply(normalize_sinc,axis=1)\n",
    "desireM['normIntel']=desireM.apply(normalize_intel,axis=1)\n",
    "desireM['normFun']=desireM.apply(normalize_fun,axis=1)\n",
    "desireM['normAmb']=desireM.apply(normalize_amb,axis=1)\n",
    "desireM['normShar']=desireM.apply(normalize_shar,axis=1)\n",
    "desireM=desireM[['normAttr','normSinc','normIntel','normFun','normAmb','normShar','iid']]\n",
    "desireM=desireM.groupby('iid').mean()\n",
    "#Because each guy meets 10 girls but he has the same standard for girls\n",
    "median=desireM.median()\n",
    "mean=desireM.mean()"
   ]
  },
  {
   "cell_type": "code",
   "execution_count": 679,
   "metadata": {
    "collapsed": false
   },
   "outputs": [
    {
     "data": {
      "text/plain": [
       "<matplotlib.axes._subplots.AxesSubplot at 0x7f9d8a8beac8>"
      ]
     },
     "execution_count": 679,
     "metadata": {},
     "output_type": "execute_result"
    },
    {
     "data": {
      "image/png": "[encoded data removed]",
      "text/plain": [
       "<matplotlib.figure.Figure at 0x7f9d8b1f1f60>"
      ]
     },
     "metadata": {},
     "output_type": "display_data"
    }
   ],
   "source": [
    "mean.plot(kind='bar')"
   ]
  },
  {
   "cell_type": "code",
   "execution_count": 680,
   "metadata": {
    "collapsed": false
   },
   "outputs": [
    {
     "data": {
      "text/plain": [
       "<matplotlib.axes._subplots.AxesSubplot at 0x7f9d8a639ef0>"
      ]
     },
     "execution_count": 680,
     "metadata": {},
     "output_type": "execute_result"
    },
    {
     "data": {
      "image/png": "[encoded data removed]",
      "text/plain": [
       "<matplotlib.figure.Figure at 0x7f9d8a6bd2e8>"
      ]
     },
     "metadata": {},
     "output_type": "display_data"
    }
   ],
   "source": [
    "median.plot(kind='bar')"
   ]
  },
  {
   "cell_type": "markdown",
   "metadata": {},
   "source": [
    "### Conclusion: Female care more about well-rounded male with all attribute. They also care more about the \"inside values\" such as intellectual, fun, and sincere than appearance. "
   ]
  },
  {
   "cell_type": "markdown",
   "metadata": {
    "collapsed": true
   },
   "source": [
    "* Note: It is also interesting to see that shared hobbies/interests does not play that significant of a roles when it comes to the decision of dating someone again."
   ]
  },
  {
   "cell_type": "code",
   "execution_count": null,
   "metadata": {
    "collapsed": true
   },
   "outputs": [],
   "source": []
  }
 ],
 "metadata": {
  "kernelspec": {
   "display_name": "Python 3",
   "language": "python",
   "name": "python3"
  },
  "language_info": {
   "codemirror_mode": {
    "name": "ipython",
    "version": 3
   },
   "file_extension": ".py",
   "mimetype": "text/x-python",
   "name": "python",
   "nbconvert_exporter": "python",
   "pygments_lexer": "ipython3",
   "version": "3.5.1"
  }
 },
 "nbformat": 4,
 "nbformat_minor": 1
}
